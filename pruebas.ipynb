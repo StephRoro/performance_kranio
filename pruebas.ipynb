{
 "cells": [
  {
   "cell_type": "code",
   "execution_count": 1,
   "id": "422f7386",
   "metadata": {},
   "outputs": [
    {
     "name": "stdout",
     "output_type": "stream",
     "text": [
      "Ingrese un número (0 para finalizar): 13\n",
      "Ingrese un número (0 para finalizar): 2\n",
      "Ingrese un número (0 para finalizar): 34\n",
      "Ingrese un número (0 para finalizar): 2\n",
      "Ingrese un número (0 para finalizar): 5\n",
      "Ingrese un número (0 para finalizar): 3\n",
      "Ingrese un número (0 para finalizar): 0\n"
     ]
    }
   ],
   "source": [
    "# A) Solicitar al usuario que ingrese números, los cuales se guardarán en una lista. Finalizar al ingresar el número 0, el cual no debe guardarse.\n",
    "numeros = []\n",
    "while True:\n",
    "    numero = int(input(\"Ingrese un número (0 para finalizar): \"))\n",
    "    if numero == 0:\n",
    "        break\n",
    "    numeros.append(numero)"
   ]
  },
  {
   "cell_type": "code",
   "execution_count": 2,
   "id": "3e12473d",
   "metadata": {},
   "outputs": [
    {
     "name": "stdout",
     "output_type": "stream",
     "text": [
      "Ingrese el número que desea eliminar:3\n"
     ]
    }
   ],
   "source": [
    "# B) Solicitar al usuario que ingrese un número y eliminar la primera ocurrencia si existe.\n",
    "numero_a_eliminar = int(input(\"Ingrese el número que desea eliminar:\"))\n",
    "if numero_a_eliminar in numeros:\n",
    "    numeros.remove(numero_a_eliminar)\n",
    "else:\n",
    "    print(\"El número no se encuentra en la lista.\")\n"
   ]
  },
  {
   "cell_type": "code",
   "execution_count": 3,
   "id": "9ba01465",
   "metadata": {},
   "outputs": [
    {
     "name": "stdout",
     "output_type": "stream",
     "text": [
      "La sumatoria de todos los elementos es: 56\n"
     ]
    }
   ],
   "source": [
    "\n",
    "# C) Recorrer la lista para imprimir la sumatoria de todos los elementos.\n",
    "suma = sum(numeros)\n",
    "print(\"La sumatoria de todos los elementos es:\", suma)\n",
    "\n"
   ]
  },
  {
   "cell_type": "code",
   "execution_count": 4,
   "id": "effe5832",
   "metadata": {},
   "outputs": [
    {
     "name": "stdout",
     "output_type": "stream",
     "text": [
      "Ingrese un número límite: 13\n",
      "Elementos menores que 13 : [2, 2, 5]\n"
     ]
    }
   ],
   "source": [
    "# D) Solicitar al usuario otro número y crear una lista con los elementos menores que el número dado.\n",
    "numero_limite = int(input(\"Ingrese un número límite: \"))\n",
    "numeros_menores = [num for num in numeros if num < numero_limite]\n",
    "print(\"Elementos menores que\", numero_limite, \":\", numeros_menores)\n",
    "\n"
   ]
  },
  {
   "cell_type": "code",
   "execution_count": null,
   "id": "99b19f5f",
   "metadata": {},
   "outputs": [],
   "source": [
    "# E) Generar e imprimir una nueva lista que contenga tuplas con los números y sus frecuencias.\n",
    "frecuencias = {}\n",
    "for numero in numeros:\n",
    "    if numero in frecuencias:\n",
    "        frecuencias[numero] += 1\n",
    "    else:\n",
    "        frecuencias[numero] = 1\n",
    "\n",
    "tuplas_frecuencias = [(numero, frecuencia) for numero, frecuencia in frecuencias.items()]\n",
    "print(\"Tuplas de números y sus frecuencias:\", tuplas_frecuencias)"
   ]
  }
 ],
 "metadata": {
  "kernelspec": {
   "display_name": "Python 3 (ipykernel)",
   "language": "python",
   "name": "python3"
  },
  "language_info": {
   "codemirror_mode": {
    "name": "ipython",
    "version": 3
   },
   "file_extension": ".py",
   "mimetype": "text/x-python",
   "name": "python",
   "nbconvert_exporter": "python",
   "pygments_lexer": "ipython3",
   "version": "3.10.12"
  }
 },
 "nbformat": 4,
 "nbformat_minor": 5
}
